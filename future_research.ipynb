{
 "cells": [
  {
   "cell_type": "markdown",
   "metadata": {},
   "source": [
    "# Future Research: Proof-of-Concept Notebook\n",
    "\n",
    "This notebook provides a concrete, runnable example for one of the ideas outlined in `FUTURE_RESEARCH.md`: **analyzing mixed CNOT orderings**.\n",
    "\n",
    "The analyses in the other notebooks assume that all weight-4 stabilizers use the same CNOT permutation. However, the library is flexible enough to support different orderings for different stabilizers. This notebook demonstrates how to set up and run such an analysis."
   ]
  },
  {
   "cell_type": "code",
   "execution_count": null,
   "metadata": {},
   "outputs": [],
   "source": [
    "# === 1. Imports and Setup ===\n",
    "import pyzx as zx\n",
    "import pprint\n",
    "\n",
    "from zx_error_prop.surface_code import generate_surface_code_qasm\n",
    "from zx_error_prop.propagation import propagate_pauli_error, get_output_errors, count_logical_errors"
   ]
  },
  {
   "cell_type": "code",
   "execution_count": null,
   "metadata": {},
   "outputs": [],
   "source": [
    "# === 2. Define Mixed CNOT Orderings ===\n",
    "\n",
    "DISTANCE = 3\n",
    "Z_LOGICALS = [[73, 74, 75], [76, 77, 78], [79, 80, 81]]\n",
    "X_LOGICALS = [[73, 76, 79], [74, 77, 80], [75, 78, 81]]\n",
    "\n",
    "# Let's compare a 'good' permutation with a 'bad' one from the original analysis.\n",
    "GOOD_PERM = [0, 3, 1, 2] # Known to be robust\n",
    "BAD_PERM  = [0, 1, 2, 3] # Known to cause logical errors\n",
    "\n",
    "# A hook error known to cause issues with the bad permutation\n",
    "HOOK_ERROR = [((37, 35), 'X')] # X-hook on stabilizer X1\n",
    "\n",
    "# Case 1: All stabilizers use the BAD permutation\n",
    "bad_orders = {\n",
    "    'Z0': BAD_PERM,\n",
    "    'X1': BAD_PERM,\n",
    "    'X2': BAD_PERM,\n",
    "    'Z3': BAD_PERM\n",
    "}\n",
    "\n",
    "# Case 2: All stabilizers use the GOOD permutation\n",
    "good_orders = {\n",
    "    'Z0': GOOD_PERM,\n",
    "    'X1': GOOD_PERM,\n",
    "    'X2': GOOD_PERM,\n",
    "    'Z3': GOOD_PERM\n",
    "}\n",
    "\n",
    "# Case 3: A MIXED ordering. Let's make only the target stabilizer robust.\n",
    "mixed_orders = {\n",
    "    'Z0': BAD_PERM, \n",
    "    'X1': GOOD_PERM, # The stabilizer we are injecting an error on\n",
    "    'X2': BAD_PERM,\n",
    "    'Z3': BAD_PERM\n",
    "}"
   ]
  },
  {
   "cell_type": "code",
   "execution_count": null,
   "metadata": {},
   "outputs": [],
   "source": [
    "# === 3. Run and Compare Analyses ===\n",
    "\n",
    "def run_single_analysis(name, distance, ordering_dict, error_to_inject):\n",
    "    \"\"\"Helper function to run the analysis for a single configuration.\"\"\"\n",
    "    print(f\"--- Running Analysis for: {name} ---\")\n",
    "    \n",
    "    # Generate the circuit\n",
    "    qasm_string = generate_surface_code_qasm(distance, custom_cnot_orderings=ordering_dict)\n",
    "    graph = zx.sqasm(qasm_string, simplify=False)\n",
    "    \n",
    "    # Propagate the error\n",
    "    final_web, _ = propagate_pauli_error(graph, error_to_inject)\n",
    "    output_errors = get_output_errors(graph, final_web)\n",
    "    \n",
    "    # Count logical errors\n",
    "    z_errs, x_errs = count_logical_errors(output_errors, Z_LOGICALS, X_LOGICALS)\n",
    "    \n",
    "    print(f\"Result: Z Errors = {z_errs}, X Errors = {x_errs}\")\n",
    "    if z_errs > 0 or x_errs > 0:\n",
    "        print(\"Conclusion: A logical error occurred.\")\n",
    "    else:\n",
    "        print(\"Conclusion: No logical error occurred.\")\n",
    "    print(\"\\n\")\n",
    "\n",
    "# Run the comparison\n",
    "run_single_analysis(\"All Bad Permutation\", DISTANCE, bad_orders, HOOK_ERROR)\n",
    "run_single_analysis(\"All Good Permutation\", DISTANCE, good_orders, HOOK_ERROR)\n",
    "run_single_analysis(\"Mixed Permutation\", DISTANCE, mixed_orders, HOOK_ERROR)"
   ]
  },
  {
   "cell_type": "markdown",
   "metadata": {},
   "source": [
    "### Conclusion\n",
    "\n",
    "This proof-of-concept demonstrates that the library can be used to explore more complex CNOT ordering schemes. By modifying the `custom_orders` dictionary, a researcher can easily test any combination of permutations for any set of stabilizers, providing a powerful tool for investigating the fine-grained details of error propagation in these codes."
   ]
  }
 ],
 "metadata": {
  "kernelspec": {
   "display_name": "Python 3",
   "language": "python",
   "name": "python3"
  },
  "language_info": {
   "codemirror_mode": {
    "name": "ipython",
    "version": 3
   },
   "file_extension": ".py",
   "mimetype": "text/x-python",
   "name": "python",
   "nbconvert_exporter": "python",
   "pygments_lexer": "ipython3",
   "version": "3.11.5"
  }
 },
 "nbformat": 4,
 "nbformat_minor": 5
}
