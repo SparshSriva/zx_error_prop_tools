{
 "cells": [
  {
   "cell_type": "markdown",
   "metadata": {},
   "source": [
    "# d=5 Hook Error Analysis using Classical Simulation\n",
    "\n",
    "This notebook uses a classical Pauli propagation simulator to find robust CNOT orderings for a distance 5 surface code. This method exactly mimics the error propagation of the ZX-calculus `gflow` but is implemented in pure Python for validation and analysis.\n",
    "\n",
    "The analysis proceeds by:\n",
    "1. Programmatically generating the connectivity for a d=5 surface code.\n",
    "2. For each of the 24 CNOT permutations, a hook error is injected into each of the 16 weight-4 stabilizers.\n",
    "3. The error is propagated through a simulated circuit.\n",
    "4. The final error weight on each logical Z and X line is calculated.\n",
    "5. The result for a permutation is the *maximum* weight observed on any line across all single hook error tests.\n",
    "6. \"Robust\" permutations are defined as those that never cause a line weight greater than 1, thus not reducing the code distance."
   ]
  },
  {
   "cell_type": "code",
   "execution_count": null,
   "metadata": {},
   "outputs": [],
   "source": [
    "# === 1. Imports and Parameters ===\n",
    "from zx_error_prop.stim_interface import run_classical_hook_simulation\n",
    "import pprint\n",
    "\n",
    "DISTANCE = 5\n",
    "\n",
    "# CNOT step (0-indexed) after which to inject the hook error.\n",
    "# The original analysis used HOOK_STEP = 1.\n",
    "HOOK_STEP = 1"
   ]
  },
  {
   "cell_type": "code",
   "execution_count": null,
   "metadata": {},
   "outputs": [],
   "source": [
    "# === 2. Run Classical Simulation ===\n",
    "\n",
    "results = run_classical_hook_simulation(distance=DISTANCE, hook_step=HOOK_STEP)\n",
    "\n",
    "print(f\"Found {len(results['weight4_stabilizers'])} weight-4 stabilizers:\")\n",
    "print(results['weight4_stabilizers'])\n",
    "\n",
    "print(\"--- Analysis Results ---\")\n",
    "print(f\"Robust permutations (max line weight <= 1) for HOOK_STEP={HOOK_STEP}:\")\n",
    "pprint.pprint(results['robust_permutations'])\n",
    "print(f\"Count robust: {len(results['robust_permutations'])} / 24\")\n",
    "\n",
    "print(\"\\nFull results (permutation -> (max Z-line weight, max X-line weight)):\")\n",
    "for p, res in sorted(results['all_results'].items()):\n",
    "    print(f\"{str(p):<15}: {res}\")"
   ]
  }
 ],
 "metadata": {
  "kernelspec": {
   "display_name": "Python 3",
   "language": "python",
   "name": "python3"
  },
  "language_info": {
   "codemirror_mode": {
    "name": "ipython",
    "version": 3
   },
   "file_extension": ".py",
   "mimetype": "text/x-python",
   "name": "python",
   "nbconvert_exporter": "python",
   "pygments_lexer": "ipython3",
   "version": "3.11.5"
  }
 },
 "nbformat": 4,
 "nbformat_minor": 5
}
