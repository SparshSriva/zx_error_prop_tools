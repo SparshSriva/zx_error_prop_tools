{
 "cells": [
  {
   "cell_type": "markdown",
   "metadata": {},
   "source": [
    "# Stim-Based Memory Experiment for d=3 Surface Code\n",
    "\n",
    "This notebook uses Stim to perform a noisy memory experiment to evaluate the robustness of different CNOT orderings for the d=3 surface code. The primary goal is to see if the permutations identified as 'good' by the PyZX analysis also show a lower logical error rate in a simulation with depolarizing noise.\n",
    "\n",
    "The experiment proceeds as follows:\n",
    "1. For each of the 24 possible CNOT permutations for the weight-4 stabilizers:\n",
    "2. A multi-round Stim circuit is constructed with a specified level of 2-qubit depolarizing noise.\n",
    "3. The circuit is simulated for a number of shots to measure the logical Z error rate.\n",
    "4. This process is repeated multiple times to gather statistics (mean, standard deviation, and standard error).\n",
    "5. The results are then sorted to identify the most robust CNOT orderings under these noise conditions."
   ]
  },
  {
   "cell_type": "code",
   "execution_count": null,
   "metadata": {},
   "outputs": [],
   "source": [
    "# === 1. Imports and Setup ===\n",
    "import matplotlib.pyplot as plt\n",
    "from zx_error_prop.stim_interface import run_stim_memory_experiment\n",
    "\n",
    "# --- Experiment Parameters ---\n",
    "# Number of syndrome measurement rounds\n",
    "ROUNDS = 6\n",
    "\n",
    "# 2-qubit depolarizing error probability after each CNOT\n",
    "P2_NOISE = 0.00002\n",
    "\n",
    "# Number of times the circuit is sampled per repeat\n",
    "SHOTS_PER_REPEAT = 5000\n",
    "\n",
    "# Number of times to repeat the whole simulation for statistical significance\n",
    "REPEATS = 10"
   ]
  },
  {
   "cell_type": "code",
   "execution_count": null,
   "metadata": {},
   "outputs": [],
   "source": [
    "# === 2. Run Experiment and Display Results ===\n",
    "\n",
    "total_shots_per_perm = SHOTS_PER_REPEAT * REPEATS\n",
    "\n",
    "results = run_stim_memory_experiment(\n",
    "    rounds=ROUNDS,\n",
    "    p2=P2_NOISE,\n",
    "    shots=SHOTS_PER_REPEAT,\n",
    "    repeats=REPEATS\n",
    ")\n",
    "\n",
    "print(f\"\\nAveraged over {REPEATS} repeats x {SHOTS_PER_REPEAT} shots each (total shots per perm = {total_shots_per_perm})\")\n",
    "print(\"Permutation -> Mean Logical Z Error Rate (Std. Err.)\")\n",
    "print(\"-\" * 50)\n",
    "\n",
    "sorted_results = sorted(results.items(), key=lambda item: item[1]['mean'])\n",
    "\n",
    "for perm, stats in sorted_results:\n",
    "    mean, stderr = stats['mean'], stats['std_err']\n",
    "    print(f\"{str(perm):<15} -> {mean:.5f} (± {stderr:.5f})\")\n",
    "\n",
    "# Find and print the best permutation\n",
    "best_perm, best_stats = sorted_results[0]\n",
    "print(\"\\n--- Best Permutation ---\")\n",
    "print(f\"Permutation: {best_perm}\")\n",
    "print(f\"Mean Failure Rate: {best_stats['mean']:.5f}\")"
   ]
  }
 ],
 "metadata": {
  "kernelspec": {
   "display_name": "Python 3",
   "language": "python",
   "name": "python3"
  },
  "language_info": {
   "codemirror_mode": {
    "name": "ipython",
    "version": 3
   },
   "file_extension": ".py",
   "mimetype": "text/x-python",
   "name": "python",
   "nbconvert_exporter": "python",
   "pygments_lexer": "ipython3",
   "version": "3.11.5"
  }
 },
 "nbformat": 4,
 "nbformat_minor": 5
}
