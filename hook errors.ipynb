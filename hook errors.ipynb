{
 "cells": [
  {
   "cell_type": "markdown",
   "metadata": {},
   "source": [
    "# Analysis of Hook Errors in a Distance 3 Surface Code\n",
    "\n",
    "This notebook analyzes the effect of CNOT gate ordering on the propagation of hook errors in a d=3 rotated surface code. It uses the `zx_error_prop` library to:\n",
    "\n",
    "1. Generate surface code circuits with different CNOT orderings.\n",
    "2. Inject a representative set of hook errors into each circuit.\n",
    "3. Propagate the errors using PyZX's `gflow` functionality.\n",
    "4. Count the number of resulting logical X and Z errors for each CNOT permutation.\n",
    "\n",
    "The goal is to identify CNOT orderings that are more robust against this type of error."
   ]
  },
  {
   "cell_type": "code",
   "execution_count": null,
   "metadata": {},
   "outputs": [],
   "source": [
    "# === 1. Setup and Imports ===\n",
    "import itertools\n",
    "import pprint\n",
    "\n",
    "import pyzx as zx\n",
    "import matplotlib.pyplot as plt\n",
    "\n",
    "from zx_error_prop.surface_code import generate_surface_code_qasm, plot_rotated_code\n",
    "from zx_error_prop.propagation import propagate_pauli_error, get_output_errors, count_logical_errors"
   ]
  },
  {
   "cell_type": "code",
   "execution_count": null,
   "metadata": {},
   "outputs": [],
   "source": [
    "# === 2. Define Experiment Parameters ===\n",
    "\n",
    "DISTANCE = 3\n",
    "\n",
    "# Define the logical operators by the qubit indices they cross at the output.\n",
    "# These are for the d=3 code.\n",
    "Z_LOGICALS = [[73, 74, 75], [76, 77, 78], [79, 80, 81]]\n",
    "X_LOGICALS = [[73, 76, 79], [74, 77, 80], [75, 78, 81]]\n",
    "\n",
    "# Define the set of hook errors to test.\n",
    "# Each error is defined by a tuple: ((source_vertex, target_vertex), 'ErrorType')\n",
    "HOOK_ERRORS = [\n",
    "    ((27, 25), 'Z'), \n",
    "    ((37, 35), 'X'), \n",
    "    ((55, 53), 'X'), \n",
    "    ((63, 61), 'Z')\n",
    "]\n",
    "\n",
    "# Plot the code layout for visualization\n",
    "plot_rotated_code(DISTANCE)\n",
    "plt.show()"
   ]
  },
  {
   "cell_type": "code",
   "execution_count": null,
   "metadata": {},
   "outputs": [],
   "source": [
    "# === 3. Run the Analysis ===\n",
    "\n",
    "print(\"Starting analysis... This may take a few minutes.\")\n",
    "\n",
    "# Generate all 4! = 24 permutations of CNOT orderings\n",
    "permutations = list(itertools.permutations([0, 1, 2, 3]))\n",
    "analysis_results = {}\n",
    "\n",
    "for i, perm in enumerate(permutations):\n",
    "    print(f\"Processing permutation {i+1}/{len(permutations)}: {perm}\")\n",
    "    perm_list = list(perm)\n",
    "    \n",
    "    # Define the custom CNOT ordering for the four central, weight-4 stabilizers.\\n",
    "    # To test different orderings for different plaquettes, you can modify this\\n",
    "    # dictionary. For example:\\n",
    "    # custom_orders = {\\n",
    "    #     'Z0': [0, 1, 2, 3],\\n",
    "    #     'X1': [3, 2, 1, 0],\\n",
    "    #     'X2': [1, 2, 3, 0],\\n",
    "    #     'Z3': perm_list\\n",
    "    # }\\n",
    "    custom_orders = {\n",
    "        'Z0': perm_list,\n",
    "        'X1': perm_list,\n",
    "        'X2': perm_list,\n",
    "        'Z3': perm_list\n",
    "    }\n",
    "    \n",
    "    # Generate the QASM string and convert to a ZX-graph\n",
    "    qasm_string = generate_surface_code_qasm(DISTANCE, custom_cnot_orderings=custom_orders)\n",
    "    graph = zx.sqasm(qasm_string, simplify=False)\n",
    "    \n",
    "    total_z_errors = 0\n",
    "    total_x_errors = 0\n",
    "    \n",
    "    # For each permutation, test every hook error\n",
    "    for hook in HOOK_ERRORS:\n",
    "        # Propagate the error and get the final errors on the output qubits\n",
    "        final_web, _ = propagate_pauli_error(graph, [hook])\n",
    "        output_errors = get_output_errors(graph, final_web)\n",
    "        \n",
    "        # Count the number of logical errors that occurred\n",
    "        z_errs, x_errs = count_logical_errors(output_errors, Z_LOGICALS, X_LOGICALS)\n",
    "        \n",
    "        total_z_errors += z_errs\n",
    "        total_x_errors += x_errs\n",
    "        \n",
    "    analysis_results[perm] = (total_z_errors, total_x_errors)\n",
    "\n",
    "print(\"\\nAnalysis complete.\")"
   ]
  },
  {
   "cell_type": "code",
   "execution_count": null,
   "metadata": {},
   "outputs": [],
   "source": [
    "# === 4. Display Results ===\n",
    "\n",
    "print(\"--- CNOT Permutation Analysis Results ---\")\n",
    "print(\"Format: (Permutation): (Total Z Errors, Total X Errors)\\n\")\n",
    "\n",
    "# Sort results by the total number of errors (Z+X), ascending\n",
    "sorted_results = sorted(analysis_results.items(), key=lambda item: sum(item[1]))\n",
    "\n",
    "for perm, errors in sorted_results:\n",
    "    print(f\"{str(perm):<15}: {errors}\")\n",
    "\n",
    "print(\"\\n--- Summary ---\")\n",
    "good_permutations = [p for p, e in sorted_results if sum(e) == 0]\n",
    "print(f\"Found {len(good_permutations)} permutations that resulted in 0 logical errors:\")\n",
    "for p in good_permutations:\n",
    "    print(p)"
   ]
  }
 ],
 "metadata": {
  "kernelspec": {
   "display_name": "Python 3",
   "language": "python",
   "name": "python3"
  },
  "language_info": {
   "codemirror_mode": {
    "name": "ipython",
    "version": 3
   },
   "file_extension": ".py",
   "mimetype": "text/x-python",
   "name": "python",
   "nbconvert_exporter": "python",
   "pygments_lexer": "ipython3",
   "version": "3.11.5"
  }
 },
 "nbformat": 4,
 "nbformat_minor": 5
}
