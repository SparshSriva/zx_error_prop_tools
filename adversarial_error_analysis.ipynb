{
 "cells": [
  {
   "cell_type": "markdown",
   "metadata": {},
   "source": [
    "# Systematic Analysis of Adversarial Errors\n",
    "\n",
    "This notebook performs a systematic search for adversarial errors in surface codes of different distances. An adversarial error is a physical error that, due to the circuit structure and gate ordering, propagates into a logical error.\n",
    "\n",
    "This analysis uses a classical Pauli propagator to perfectly model the noise-free error propagation. It iterates through:\n",
    "- Code distances (d=3 and d=5)\n",
    "- All 24 CNOT permutations for weight-4 stabilizers\n",
    "- Pauli X and Z errors\n",
    "- All possible injection points (on every weight-4 ancilla, after every CNOT in its stabilizer sequence)\n",
    "\n",
    "The goal is to identify which combinations of these parameters are most likely to cause logical failures, providing a more comprehensive view of error propagation beyond the initial set of hook errors."
   ]
  },
  {
   "cell_type": "code",
   "execution_count": null,
   "metadata": {},
   "outputs": [],
   "source": [
    "# === 1. Imports and Setup ===\n",
    "import itertools\n",
    "import pprint\n",
    "\n",
    "from zx_error_prop.propagation import count_logical_errors\n",
    "from zx_error_prop.stim_interface import _simulate_hook_paulis_qasm\n",
    "from zx_error_prop.surface_code import generate_rotated_surface_code, parse_qubit_map, find_neighboring_data_qubits"
   ]
  },
  {
   "cell_type": "code",
   "execution_count": null,
   "metadata": {},
   "outputs": [],
   "source": [
    "# === 2. Main Analysis Function ===\n",
    "\n",
    "def find_adversarial_errors(distance, permutations):\n",
    "    print(f\"--- Starting Adversarial Error Analysis for d={distance} ---\")\n",
    "    \n",
    "    # 1. Build code properties for the given distance\n",
    "    sc_map = generate_rotated_surface_code(distance)\n",
    "    _, ancillas = parse_qubit_map(sc_map)\n",
    "    connectivity = {anc['label']: find_neighboring_data_qubits(sc_map, *anc['matrix_coord']) for anc in ancillas}\n",
    "    weight4_stabs = sorted([lab for lab, neigh in connectivity.items() if len(neigh) == 4], key=lambda s: (s[0], int(s[1:])))\n",
    "    \n",
    "    # 2. Define logical operators\n",
    "    D2 = distance * distance\n",
    "    z_logicals = [list(range(r * distance, r * distance + distance)) for r in range(distance)]\n",
    "    x_logicals = [list(range(c, D2, distance)) for c in range(distance)]\n",
    "    \n",
    "    adversarial_configs = []\n",
    "    ERROR_TYPES = ['X', 'Z']\n",
    "\n",
    "    # 3. Main loop to test all configurations\n",
    "    for i, perm in enumerate(permutations):\n",
    "        if (i % 4 == 0):\n",
    "             print(f\"  Processing permutation {i+1}/{len(permutations)}: {perm}\")\n",
    "        \n",
    "        for stab_label in weight4_stabs:\n",
    "            for hook_step in range(4): # 4 CNOTs for a weight-4 stabilizer\n",
    "                for error_type in ERROR_TYPES:\n",
    "                    \n",
    "                    # Simulate the error propagation\n",
    "                    final_paulis = _simulate_hook_paulis_qasm(\n",
    "                        distance=distance,\n",
    "                        ordering=perm,\n",
    "                        target_stab=stab_label,\n",
    "                        hook_step=hook_step,\n",
    "                        error_type=error_type,\n",
    "                        weight4_stabs=weight4_stabs\n",
    "                    )\n",
    "                    \n",
    "                    # Convert to dictionary format for error counting function\n",
    "                    output_errors = {q: p for q, p in enumerate(final_paulis) if p != 'I'}\n",
    "                    \n",
    "                    # Count logical errors\n",
    "                    z_errs, x_errs = count_logical_errors(output_errors, z_logicals, x_logicals)\n",
    "                    \n",
    "                    if z_errs > 0 or x_errs > 0:\n",
    "                        result = {\n",
    "                            \"permutation\": perm,\n",
    "                            \"stabilizer\": stab_label,\n",
    "                            \"hook_step\": hook_step,\n",
    "                            \"error_type\": error_type,\n",
    "                            \"logical_errors\": (z_errs, x_errs)\n",
    "                        }\n",
    "                        adversarial_configs.append(result)\n",
    "                        \n",
    "    print(f\"--- Analysis for d={distance} complete. Found {len(adversarial_configs)} adversarial configurations. ---\")\n",
    "    return adversarial_configs\n"
   ]
  },
  {
   "cell_type": "code",
   "execution_count": null,
   "metadata": {},
   "outputs": [],
   "source": [
    "# === 3. Run Analysis and Display Results ===\n",
    "\n",
    "all_perms = list(itertools.permutations([0, 1, 2, 3]))\n",
    "\n",
    "print(\"Running for d=3. This may take several minutes.\")\n",
    "d3_results = find_adversarial_errors(3, all_perms)\n",
    "\n",
    "print(\"\\n--- d=3 Adversarial Configurations Found ---\")\n",
    "pprint.pprint(d3_results)\n",
    "\n",
    "print(\"\\nNOTE: A full d=5 analysis would be very time-consuming and is not run by default.\")\n",
    "print(\"To run it, you can call: find_adversarial_errors(5, all_perms)\")"
   ]
  }
 ],
 "metadata": {
  "kernelspec": {
   "display_name": "Python 3",
   "language": "python",
   "name": "python3"
  },
  "language_info": {
   "codemirror_mode": {
    "name": "ipython",
    "version": 3
   },
   "file_extension": ".py",
   "mimetype": "text/x-python",
   "name": "python",
   "nbconvert_exporter": "python",
   "pygments_lexer": "ipython3",
   "version": "3.11.5"
  }
 },
 "nbformat": 4,
 "nbformat_minor": 5
}
